{
 "cells": [
  {
   "attachments": {},
   "cell_type": "markdown",
   "metadata": {},
   "source": [
    "# Predictions & simulations - Project 1\n",
    "## Report created by Artem Beregovskykh, Joanna Mateuszczyk, Juliusz Pronobis-Szczylik, Wenjiao Zhou\n"
   ]
  },
  {
   "attachments": {},
   "cell_type": "markdown",
   "metadata": {},
   "source": [
    "### Importing libraries"
   ]
  },
  {
   "cell_type": "code",
   "execution_count": 162,
   "metadata": {},
   "outputs": [],
   "source": [
    "import numpy as np\n",
    "import pandas as pd\n",
    "import datetime as dt\n",
    "import matplotlib.pyplot as plt\n",
    "import seaborn as sns\n",
    "import scipy as sp\n",
    "import scipy.stats as stats\n",
    "\n",
    "import statsmodels\n",
    "import statsmodels.api as sm\n",
    "import statsmodels.tsa.api as tsa\n",
    "\n",
    "from statsmodels.graphics.tsaplots import plot_acf\n",
    "from statsmodels.graphics.tsaplots import plot_pacf\n",
    "from statsmodels.tsa.stattools import adfuller, kpss\n",
    "%matplotlib inline\n",
    "import warnings\n",
    "warnings.filterwarnings('ignore')"
   ]
  },
  {
   "attachments": {},
   "cell_type": "markdown",
   "metadata": {},
   "source": [
    "### Importing datasets"
   ]
  },
  {
   "cell_type": "code",
   "execution_count": 163,
   "metadata": {},
   "outputs": [],
   "source": [
    "df1 = pd.read_csv('/Users/m/Downloads/Pred_and_simulations-main/Data/Spain stock index(^IBEX)_EUR.csv',parse_dates=['Date'])"
   ]
  },
  {
   "cell_type": "code",
   "execution_count": 164,
   "metadata": {},
   "outputs": [],
   "source": [
    "df2 = pd.read_csv('/Users/m/Downloads/Pred_and_simulations-main/Data/USDJPY_JPY.csv', parse_dates=['Date'])"
   ]
  },
  {
   "cell_type": "code",
   "execution_count": 165,
   "metadata": {},
   "outputs": [],
   "source": [
    "df3 = pd.read_csv('/Users/m/Downloads/IRLTLT01ESM156N.csv',parse_dates=['DATE'])"
   ]
  },
  {
   "cell_type": "code",
   "execution_count": 166,
   "metadata": {
    "scrolled": true
   },
   "outputs": [],
   "source": [
    "df4 = pd.read_csv('/Users/m/Downloads/INDPRO (2).csv',parse_dates=['DATE'])"
   ]
  },
  {
   "cell_type": "code",
   "execution_count": 167,
   "metadata": {},
   "outputs": [],
   "source": [
    "df5 = pd.read_csv('/Users/m/Downloads/XTEITT01CNM156S.csv', parse_dates=['DATE'])"
   ]
  },
  {
   "attachments": {},
   "cell_type": "markdown",
   "metadata": {},
   "source": [
    "### Plotting every dataset"
   ]
  },
  {
   "cell_type": "code",
   "execution_count": 169,
   "metadata": {
    "scrolled": true
   },
   "outputs": [
    {
     "data": {
      "image/png": "[encoded data removed]",
      "text/plain": [
       "<Figure size 432x288 with 1 Axes>"
      ]
     },
     "metadata": {
      "needs_background": "light"
     },
     "output_type": "display_data"
    }
   ],
   "source": [
    "sns.lineplot(x=\"DATE\", y=\"IRLTLT01ESM156N\", data=df3, color='black') #We plot every other time-series the same way\n",
    "plt.show()"
   ]
  },
  {
   "attachments": {},
   "cell_type": "markdown",
   "metadata": {},
   "source": [
    "### Performing the root-tests"
   ]
  },
  {
   "cell_type": "code",
   "execution_count": 170,
   "metadata": {},
   "outputs": [
    {
     "name": "stdout",
     "output_type": "stream",
     "text": [
      "PP Statistic:  0.16443475899189314\n",
      "p-value:  0.1\n",
      "Critical Values:  {'10%': 0.347, '5%': 0.463, '2.5%': 0.574, '1%': 0.739}\n"
     ]
    }
   ],
   "source": [
    "# Perform the Phillips-Perron (PP) test on IBEX\n",
    "pp_result = kpss(df1['IBEX'])\n",
    "print('PP Statistic: ', pp_result[0])\n",
    "print('p-value: ', pp_result[1])\n",
    "print('Critical Values: ', pp_result[3])"
   ]
  },
  {
   "cell_type": "code",
   "execution_count": 171,
   "metadata": {},
   "outputs": [
    {
     "name": "stdout",
     "output_type": "stream",
     "text": [
      "PP Statistic:  0.25820142590401524\n",
      "p-value:  0.1\n",
      "Critical Values:  {'10%': 0.347, '5%': 0.463, '2.5%': 0.574, '1%': 0.739}\n"
     ]
    }
   ],
   "source": [
    "# Perform the Phillips-Perron (PP) test on USD/JPY\n",
    "pp_result = kpss(df2['USD/JPY'])\n",
    "print('PP Statistic: ', pp_result[0])\n",
    "print('p-value: ', pp_result[1])\n",
    "print('Critical Values: ', pp_result[3])"
   ]
  },
  {
   "cell_type": "code",
   "execution_count": 172,
   "metadata": {},
   "outputs": [
    {
     "name": "stdout",
     "output_type": "stream",
     "text": [
      "PP Statistic:  1.1339080274999926\n",
      "p-value:  0.01\n",
      "Critical Values:  {'10%': 0.347, '5%': 0.463, '2.5%': 0.574, '1%': 0.739}\n"
     ]
    }
   ],
   "source": [
    "# Perform the Phillips-Perron (PP) test on IRLTLT01ESM156N\n",
    "pp_result = kpss(df3['IRLTLT01ESM156N'])\n",
    "print('PP Statistic: ', pp_result[0])\n",
    "print('p-value: ', pp_result[1])\n",
    "print('Critical Values: ', pp_result[3])"
   ]
  },
  {
   "cell_type": "code",
   "execution_count": 173,
   "metadata": {},
   "outputs": [
    {
     "name": "stdout",
     "output_type": "stream",
     "text": [
      "PP Statistic:  0.8604690731681751\n",
      "p-value:  0.01\n",
      "Critical Values:  {'10%': 0.347, '5%': 0.463, '2.5%': 0.574, '1%': 0.739}\n"
     ]
    }
   ],
   "source": [
    "# Perform the Phillips-Perron (PP) test on INDPRO\n",
    "pp_result = kpss(df4['INDPRO'])\n",
    "print('PP Statistic: ', pp_result[0])\n",
    "print('p-value: ', pp_result[1])\n",
    "print('Critical Values: ', pp_result[3])"
   ]
  },
  {
   "cell_type": "code",
   "execution_count": 142,
   "metadata": {},
   "outputs": [
    {
     "name": "stdout",
     "output_type": "stream",
     "text": [
      "PP Statistic:  0.7035165798496533\n",
      "p-value:  0.013225765468213333\n",
      "Critical Values:  {'10%': 0.347, '5%': 0.463, '2.5%': 0.574, '1%': 0.739}\n"
     ]
    }
   ],
   "source": [
    "# Perform the Phillips-Perron (PP) test on XTEITT01CNM156S\n",
    "pp_result = kpss(df5['XTEITT01CNM156S'])\n",
    "print('PP Statistic: ', pp_result[0])\n",
    "print('p-value: ', pp_result[1])\n",
    "print('Critical Values: ', pp_result[3])"
   ]
  },
  {
   "cell_type": "markdown",
   "metadata": {},
   "source": [
    "### Preparing for ADF tests"
   ]
  },
  {
   "cell_type": "code",
   "execution_count": 174,
   "metadata": {},
   "outputs": [],
   "source": [
    "def adfuller_test(series, signif=0.05, name='', verbose=False):\n",
    "    \"\"\"Perform ADFuller to test for Stationarity of given series and print report\"\"\"\n",
    "    r = adfuller(series, autolag='AIC')\n",
    "    output = {'test_statistic':round(r[0], 4), 'pvalue':round(r[1], 4), 'n_lags':round(r[2], 4), 'n_obs':r[3]}\n",
    "    p_value = output['pvalue'] \n",
    "    def adjust(val, length= 6): return str(val).ljust(length)\n",
    "\n",
    "    # Print Summary\n",
    "    print(f'    Augmented Dickey-Fuller Test on \"{name}\"', \"\\n   \", '-'*47)\n",
    "    print(f' Null Hypothesis: Data has unit root. Non-Stationary.')\n",
    "    print(f' Significance Level    = {signif}')\n",
    "    print(f' Test Statistic        = {output[\"test_statistic\"]}')\n",
    "    print(f' No. Lags Chosen       = {output[\"n_lags\"]}')\n",
    "\n",
    "    for key,val in r[4].items():\n",
    "        print(f' Critical value {adjust(key)} = {round(val, 3)}')\n",
    "\n",
    "    if p_value <= signif:\n",
    "        print(f\" => P-Value = {p_value}. Rejecting Null Hypothesis.\")\n",
    "        print(f\" => Series is Stationary.\")\n",
    "    else:\n",
    "        print(f\" => P-Value = {p_value}. Weak evidence to reject the Null Hypothesis.\")\n",
    "        print(f\" => Series is Non-Stationary.\")   "
   ]
  },
  {
   "attachments": {},
   "cell_type": "markdown",
   "metadata": {},
   "source": [
    "### Performing ADF tests"
   ]
  },
  {
   "cell_type": "code",
   "execution_count": 175,
   "metadata": {},
   "outputs": [
    {
     "name": "stdout",
     "output_type": "stream",
     "text": [
      "    Augmented Dickey-Fuller Test on \"Date\" \n",
      "    -----------------------------------------------\n",
      " Null Hypothesis: Data has unit root. Non-Stationary.\n",
      " Significance Level    = 0.05\n",
      " Test Statistic        = 0.2913\n",
      " No. Lags Chosen       = 12\n",
      " Critical value 1%     = -3.455\n",
      " Critical value 5%     = -2.872\n",
      " Critical value 10%    = -2.573\n",
      " => P-Value = 0.9769. Weak evidence to reject the Null Hypothesis.\n",
      " => Series is Non-Stationary.\n",
      "\n",
      "\n",
      "    Augmented Dickey-Fuller Test on \"IBEX\" \n",
      "    -----------------------------------------------\n",
      " Null Hypothesis: Data has unit root. Non-Stationary.\n",
      " Significance Level    = 0.05\n",
      " Test Statistic        = -2.5728\n",
      " No. Lags Chosen       = 3\n",
      " Critical value 1%     = -3.454\n",
      " Critical value 5%     = -2.872\n",
      " Critical value 10%    = -2.572\n",
      " => P-Value = 0.0988. Weak evidence to reject the Null Hypothesis.\n",
      " => Series is Non-Stationary.\n",
      "\n",
      "\n"
     ]
    }
   ],
   "source": [
    "for name, column in df1.iteritems(): #Performing \n",
    "    adfuller_test(column, name=column.name)\n",
    "    print('\\n')"
   ]
  },
  {
   "cell_type": "code",
   "execution_count": 176,
   "metadata": {},
   "outputs": [
    {
     "name": "stdout",
     "output_type": "stream",
     "text": [
      "    Augmented Dickey-Fuller Test on \"Date\" \n",
      "    -----------------------------------------------\n",
      " Null Hypothesis: Data has unit root. Non-Stationary.\n",
      " Significance Level    = 0.05\n",
      " Test Statistic        = 0.2913\n",
      " No. Lags Chosen       = 12\n",
      " Critical value 1%     = -3.455\n",
      " Critical value 5%     = -2.872\n",
      " Critical value 10%    = -2.573\n",
      " => P-Value = 0.9769. Weak evidence to reject the Null Hypothesis.\n",
      " => Series is Non-Stationary.\n",
      "\n",
      "\n",
      "    Augmented Dickey-Fuller Test on \"USD/JPY\" \n",
      "    -----------------------------------------------\n",
      " Null Hypothesis: Data has unit root. Non-Stationary.\n",
      " Significance Level    = 0.05\n",
      " Test Statistic        = -1.7163\n",
      " No. Lags Chosen       = 10\n",
      " Critical value 1%     = -3.455\n",
      " Critical value 5%     = -2.872\n",
      " Critical value 10%    = -2.573\n",
      " => P-Value = 0.4227. Weak evidence to reject the Null Hypothesis.\n",
      " => Series is Non-Stationary.\n",
      "\n",
      "\n"
     ]
    }
   ],
   "source": [
    "for name, column in df2.iteritems():\n",
    "    adfuller_test(column, name=column.name)\n",
    "    print('\\n')"
   ]
  },
  {
   "cell_type": "code",
   "execution_count": 177,
   "metadata": {},
   "outputs": [
    {
     "name": "stdout",
     "output_type": "stream",
     "text": [
      "    Augmented Dickey-Fuller Test on \"DATE\" \n",
      "    -----------------------------------------------\n",
      " Null Hypothesis: Data has unit root. Non-Stationary.\n",
      " Significance Level    = 0.05\n",
      " Test Statistic        = 0.293\n",
      " No. Lags Chosen       = 12\n",
      " Critical value 1%     = -3.455\n",
      " Critical value 5%     = -2.872\n",
      " Critical value 10%    = -2.573\n",
      " => P-Value = 0.977. Weak evidence to reject the Null Hypothesis.\n",
      " => Series is Non-Stationary.\n",
      "\n",
      "\n",
      "    Augmented Dickey-Fuller Test on \"IRLTLT01ESM156N\" \n",
      "    -----------------------------------------------\n",
      " Null Hypothesis: Data has unit root. Non-Stationary.\n",
      " Significance Level    = 0.05\n",
      " Test Statistic        = -1.5191\n",
      " No. Lags Chosen       = 2\n",
      " Critical value 1%     = -3.454\n",
      " Critical value 5%     = -2.872\n",
      " Critical value 10%    = -2.572\n",
      " => P-Value = 0.5241. Weak evidence to reject the Null Hypothesis.\n",
      " => Series is Non-Stationary.\n",
      "\n",
      "\n"
     ]
    }
   ],
   "source": [
    "for name, column in df3.iteritems():\n",
    "    adfuller_test(column, name=column.name)\n",
    "    print('\\n')"
   ]
  },
  {
   "cell_type": "code",
   "execution_count": 178,
   "metadata": {},
   "outputs": [
    {
     "name": "stdout",
     "output_type": "stream",
     "text": [
      "    Augmented Dickey-Fuller Test on \"DATE\" \n",
      "    -----------------------------------------------\n",
      " Null Hypothesis: Data has unit root. Non-Stationary.\n",
      " Significance Level    = 0.05\n",
      " Test Statistic        = 0.3082\n",
      " No. Lags Chosen       = 12\n",
      " Critical value 1%     = -3.455\n",
      " Critical value 5%     = -2.872\n",
      " Critical value 10%    = -2.573\n",
      " => P-Value = 0.9777. Weak evidence to reject the Null Hypothesis.\n",
      " => Series is Non-Stationary.\n",
      "\n",
      "\n",
      "    Augmented Dickey-Fuller Test on \"INDPRO\" \n",
      "    -----------------------------------------------\n",
      " Null Hypothesis: Data has unit root. Non-Stationary.\n",
      " Significance Level    = 0.05\n",
      " Test Statistic        = -1.9242\n",
      " No. Lags Chosen       = 2\n",
      " Critical value 1%     = -3.454\n",
      " Critical value 5%     = -2.872\n",
      " Critical value 10%    = -2.572\n",
      " => P-Value = 0.3208. Weak evidence to reject the Null Hypothesis.\n",
      " => Series is Non-Stationary.\n",
      "\n",
      "\n"
     ]
    }
   ],
   "source": [
    "for name, column in df4.iteritems():\n",
    "    adfuller_test(column, name=column.name)\n",
    "    print('\\n')"
   ]
  },
  {
   "cell_type": "code",
   "execution_count": 179,
   "metadata": {
    "scrolled": false
   },
   "outputs": [
    {
     "name": "stdout",
     "output_type": "stream",
     "text": [
      "    Augmented Dickey-Fuller Test on \"DATE\" \n",
      "    -----------------------------------------------\n",
      " Null Hypothesis: Data has unit root. Non-Stationary.\n",
      " Significance Level    = 0.05\n",
      " Test Statistic        = 0.3082\n",
      " No. Lags Chosen       = 12\n",
      " Critical value 1%     = -3.455\n",
      " Critical value 5%     = -2.872\n",
      " Critical value 10%    = -2.573\n",
      " => P-Value = 0.9777. Weak evidence to reject the Null Hypothesis.\n",
      " => Series is Non-Stationary.\n",
      "\n",
      "\n",
      "    Augmented Dickey-Fuller Test on \"XTEITT01CNM156S\" \n",
      "    -----------------------------------------------\n",
      " Null Hypothesis: Data has unit root. Non-Stationary.\n",
      " Significance Level    = 0.05\n",
      " Test Statistic        = -1.7786\n",
      " No. Lags Chosen       = 12\n",
      " Critical value 1%     = -3.455\n",
      " Critical value 5%     = -2.872\n",
      " Critical value 10%    = -2.573\n",
      " => P-Value = 0.3912. Weak evidence to reject the Null Hypothesis.\n",
      " => Series is Non-Stationary.\n",
      "\n",
      "\n"
     ]
    }
   ],
   "source": [
    "for name, column in df5.iteritems():\n",
    "    adfuller_test(column, name=column.name)\n",
    "    print('\\n')"
   ]
  },
  {
   "attachments": {},
   "cell_type": "markdown",
   "metadata": {},
   "source": [
    "### Performing differencing for each time–series"
   ]
  },
  {
   "cell_type": "code",
   "execution_count": 180,
   "metadata": {},
   "outputs": [],
   "source": [
    "diff1 = pd.DataFrame(df1['IBEX'].diff()[1:])\n",
    "diff1['Date'] = df1['Date']"
   ]
  },
  {
   "cell_type": "code",
   "execution_count": 181,
   "metadata": {},
   "outputs": [],
   "source": [
    "diff2 = pd.DataFrame(df2['USD/JPY'].diff()[1:]) #\n",
    "diff2['Date'] = df2['Date']"
   ]
  },
  {
   "cell_type": "code",
   "execution_count": 182,
   "metadata": {},
   "outputs": [],
   "source": [
    "diff3 = pd.DataFrame(df3['IRLTLT01ESM156N'].diff()[1:]) #\n",
    "diff3['Date'] = df3['DATE']"
   ]
  },
  {
   "cell_type": "code",
   "execution_count": 183,
   "metadata": {},
   "outputs": [],
   "source": [
    "diff4 = pd.DataFrame(df4['INDPRO'].diff()[1:]) #\n",
    "diff4['Date'] = df4['DATE']"
   ]
  },
  {
   "cell_type": "code",
   "execution_count": 184,
   "metadata": {},
   "outputs": [],
   "source": [
    "diff5 = pd.DataFrame(df5['XTEITT01CNM156S'].diff()[1:]) #\n",
    "diff5['Date'] = df5['DATE']"
   ]
  },
  {
   "attachments": {},
   "cell_type": "markdown",
   "metadata": {},
   "source": [
    "### Performing ADF tests"
   ]
  },
  {
   "cell_type": "code",
   "execution_count": 185,
   "metadata": {},
   "outputs": [
    {
     "name": "stdout",
     "output_type": "stream",
     "text": [
      "    Augmented Dickey-Fuller Test on \"IBEX\" \n",
      "    -----------------------------------------------\n",
      " Null Hypothesis: Data has unit root. Non-Stationary.\n",
      " Significance Level    = 0.05\n",
      " Test Statistic        = -9.2854\n",
      " No. Lags Chosen       = 2\n",
      " Critical value 1%     = -3.454\n",
      " Critical value 5%     = -2.872\n",
      " Critical value 10%    = -2.572\n",
      " => P-Value = 0.0. Rejecting Null Hypothesis.\n",
      " => Series is Stationary.\n",
      "\n",
      "\n",
      "    Augmented Dickey-Fuller Test on \"Date\" \n",
      "    -----------------------------------------------\n",
      " Null Hypothesis: Data has unit root. Non-Stationary.\n",
      " Significance Level    = 0.05\n",
      " Test Statistic        = 0.2992\n",
      " No. Lags Chosen       = 12\n",
      " Critical value 1%     = -3.455\n",
      " Critical value 5%     = -2.872\n",
      " Critical value 10%    = -2.573\n",
      " => P-Value = 0.9773. Weak evidence to reject the Null Hypothesis.\n",
      " => Series is Non-Stationary.\n",
      "\n",
      "\n"
     ]
    }
   ],
   "source": [
    "for name, column in diff1.iteritems():\n",
    "    adfuller_test(column, name=column.name)\n",
    "    print('\\n')"
   ]
  },
  {
   "cell_type": "code",
   "execution_count": 186,
   "metadata": {},
   "outputs": [
    {
     "name": "stdout",
     "output_type": "stream",
     "text": [
      "    Augmented Dickey-Fuller Test on \"USD/JPY\" \n",
      "    -----------------------------------------------\n",
      " Null Hypothesis: Data has unit root. Non-Stationary.\n",
      " Significance Level    = 0.05\n",
      " Test Statistic        = -4.4701\n",
      " No. Lags Chosen       = 9\n",
      " Critical value 1%     = -3.455\n",
      " Critical value 5%     = -2.872\n",
      " Critical value 10%    = -2.573\n",
      " => P-Value = 0.0002. Rejecting Null Hypothesis.\n",
      " => Series is Stationary.\n",
      "\n",
      "\n",
      "    Augmented Dickey-Fuller Test on \"Date\" \n",
      "    -----------------------------------------------\n",
      " Null Hypothesis: Data has unit root. Non-Stationary.\n",
      " Significance Level    = 0.05\n",
      " Test Statistic        = 0.2992\n",
      " No. Lags Chosen       = 12\n",
      " Critical value 1%     = -3.455\n",
      " Critical value 5%     = -2.872\n",
      " Critical value 10%    = -2.573\n",
      " => P-Value = 0.9773. Weak evidence to reject the Null Hypothesis.\n",
      " => Series is Non-Stationary.\n",
      "\n",
      "\n"
     ]
    }
   ],
   "source": [
    "for name, column in diff2.iteritems():\n",
    "    adfuller_test(column, name=column.name)\n",
    "    print('\\n')"
   ]
  },
  {
   "cell_type": "code",
   "execution_count": 187,
   "metadata": {},
   "outputs": [
    {
     "name": "stdout",
     "output_type": "stream",
     "text": [
      "    Augmented Dickey-Fuller Test on \"IRLTLT01ESM156N\" \n",
      "    -----------------------------------------------\n",
      " Null Hypothesis: Data has unit root. Non-Stationary.\n",
      " Significance Level    = 0.05\n",
      " Test Statistic        = -11.5112\n",
      " No. Lags Chosen       = 1\n",
      " Critical value 1%     = -3.454\n",
      " Critical value 5%     = -2.872\n",
      " Critical value 10%    = -2.572\n",
      " => P-Value = 0.0. Rejecting Null Hypothesis.\n",
      " => Series is Stationary.\n",
      "\n",
      "\n",
      "    Augmented Dickey-Fuller Test on \"Date\" \n",
      "    -----------------------------------------------\n",
      " Null Hypothesis: Data has unit root. Non-Stationary.\n",
      " Significance Level    = 0.05\n",
      " Test Statistic        = 0.3009\n",
      " No. Lags Chosen       = 12\n",
      " Critical value 1%     = -3.455\n",
      " Critical value 5%     = -2.872\n",
      " Critical value 10%    = -2.573\n",
      " => P-Value = 0.9774. Weak evidence to reject the Null Hypothesis.\n",
      " => Series is Non-Stationary.\n",
      "\n",
      "\n"
     ]
    }
   ],
   "source": [
    "for name, column in diff3.iteritems():\n",
    "    adfuller_test(column, name=column.name)\n",
    "    print('\\n')"
   ]
  },
  {
   "cell_type": "code",
   "execution_count": 188,
   "metadata": {},
   "outputs": [
    {
     "name": "stdout",
     "output_type": "stream",
     "text": [
      "    Augmented Dickey-Fuller Test on \"INDPRO\" \n",
      "    -----------------------------------------------\n",
      " Null Hypothesis: Data has unit root. Non-Stationary.\n",
      " Significance Level    = 0.05\n",
      " Test Statistic        = -12.5045\n",
      " No. Lags Chosen       = 1\n",
      " Critical value 1%     = -3.454\n",
      " Critical value 5%     = -2.872\n",
      " Critical value 10%    = -2.572\n",
      " => P-Value = 0.0. Rejecting Null Hypothesis.\n",
      " => Series is Stationary.\n",
      "\n",
      "\n",
      "    Augmented Dickey-Fuller Test on \"Date\" \n",
      "    -----------------------------------------------\n",
      " Null Hypothesis: Data has unit root. Non-Stationary.\n",
      " Significance Level    = 0.05\n",
      " Test Statistic        = 0.3162\n",
      " No. Lags Chosen       = 12\n",
      " Critical value 1%     = -3.455\n",
      " Critical value 5%     = -2.873\n",
      " Critical value 10%    = -2.573\n",
      " => P-Value = 0.9781. Weak evidence to reject the Null Hypothesis.\n",
      " => Series is Non-Stationary.\n",
      "\n",
      "\n"
     ]
    }
   ],
   "source": [
    "for name, column in diff4.iteritems():\n",
    "    adfuller_test(column, name=column.name)\n",
    "    print('\\n')"
   ]
  },
  {
   "cell_type": "code",
   "execution_count": 147,
   "metadata": {},
   "outputs": [
    {
     "name": "stdout",
     "output_type": "stream",
     "text": [
      "    Augmented Dickey-Fuller Test on \"XTEITT01CNM156S\" \n",
      "    -----------------------------------------------\n",
      " Null Hypothesis: Data has unit root. Non-Stationary.\n",
      " Significance Level    = 0.05\n",
      " Test Statistic        = -6.4652\n",
      " No. Lags Chosen       = 11\n",
      " Critical value 1%     = -3.455\n",
      " Critical value 5%     = -2.872\n",
      " Critical value 10%    = -2.573\n",
      " => P-Value = 0.0. Rejecting Null Hypothesis.\n",
      " => Series is Stationary.\n",
      "\n",
      "\n",
      "    Augmented Dickey-Fuller Test on \"Date\" \n",
      "    -----------------------------------------------\n",
      " Null Hypothesis: Data has unit root. Non-Stationary.\n",
      " Significance Level    = 0.05\n",
      " Test Statistic        = 0.3162\n",
      " No. Lags Chosen       = 12\n",
      " Critical value 1%     = -3.455\n",
      " Critical value 5%     = -2.873\n",
      " Critical value 10%    = -2.573\n",
      " => P-Value = 0.9781. Weak evidence to reject the Null Hypothesis.\n",
      " => Series is Non-Stationary.\n",
      "\n",
      "\n"
     ]
    }
   ],
   "source": [
    "for name, column in diff5.iteritems():\n",
    "    adfuller_test(column, name=column.name)\n",
    "    print('\\n')"
   ]
  },
  {
   "attachments": {},
   "cell_type": "markdown",
   "metadata": {},
   "source": [
    "### Performing the Phillips-Perron tests on each differenced time-series"
   ]
  },
  {
   "cell_type": "code",
   "execution_count": 189,
   "metadata": {},
   "outputs": [
    {
     "name": "stdout",
     "output_type": "stream",
     "text": [
      "PP Statistic:  0.05302755571727718\n",
      "p-value:  0.1\n",
      "Critical Values:  {'10%': 0.347, '5%': 0.463, '2.5%': 0.574, '1%': 0.739}\n"
     ]
    }
   ],
   "source": [
    "# Perform the Phillips-Perron (PP) test on differenced IBEX\n",
    "pp_result = kpss(diff1['IBEX'])\n",
    "print('PP Statistic: ', pp_result[0])\n",
    "print('p-value: ', pp_result[1])\n",
    "print('Critical Values: ', pp_result[3])"
   ]
  },
  {
   "cell_type": "code",
   "execution_count": 190,
   "metadata": {},
   "outputs": [
    {
     "name": "stdout",
     "output_type": "stream",
     "text": [
      "PP Statistic:  0.13804606855786142\n",
      "p-value:  0.1\n",
      "Critical Values:  {'10%': 0.347, '5%': 0.463, '2.5%': 0.574, '1%': 0.739}\n"
     ]
    }
   ],
   "source": [
    "# Perform the Phillips-Perron (PP) test on differenced USD/JPY\n",
    "pp_result = kpss(diff2['USD/JPY'])\n",
    "print('PP Statistic: ', pp_result[0])\n",
    "print('p-value: ', pp_result[1])\n",
    "print('Critical Values: ', pp_result[3])"
   ]
  },
  {
   "cell_type": "code",
   "execution_count": 191,
   "metadata": {},
   "outputs": [
    {
     "name": "stdout",
     "output_type": "stream",
     "text": [
      "PP Statistic:  0.1480251035261125\n",
      "p-value:  0.1\n",
      "Critical Values:  {'10%': 0.347, '5%': 0.463, '2.5%': 0.574, '1%': 0.739}\n"
     ]
    }
   ],
   "source": [
    "# Perform the Phillips-Perron (PP) test on differenced IRLTLT01ESM156N\n",
    "pp_result = kpss(diff3['IRLTLT01ESM156N'])\n",
    "print('PP Statistic: ', pp_result[0])\n",
    "print('p-value: ', pp_result[1])\n",
    "print('Critical Values: ', pp_result[3])"
   ]
  },
  {
   "cell_type": "code",
   "execution_count": 192,
   "metadata": {},
   "outputs": [
    {
     "name": "stdout",
     "output_type": "stream",
     "text": [
      "PP Statistic:  0.033472864233313394\n",
      "p-value:  0.1\n",
      "Critical Values:  {'10%': 0.347, '5%': 0.463, '2.5%': 0.574, '1%': 0.739}\n"
     ]
    }
   ],
   "source": [
    "# Perform the Phillips-Perron (PP) test on differenced INDPRO\n",
    "pp_result = kpss(diff4['INDPRO'])\n",
    "print('PP Statistic: ', pp_result[0])\n",
    "print('p-value: ', pp_result[1])\n",
    "print('Critical Values: ', pp_result[3])"
   ]
  },
  {
   "cell_type": "code",
   "execution_count": 193,
   "metadata": {},
   "outputs": [
    {
     "name": "stdout",
     "output_type": "stream",
     "text": [
      "PP Statistic:  0.10330026226163716\n",
      "p-value:  0.1\n",
      "Critical Values:  {'10%': 0.347, '5%': 0.463, '2.5%': 0.574, '1%': 0.739}\n"
     ]
    }
   ],
   "source": [
    "# Perform the Phillips-Perron (PP) test on differenced XTEITT01CNM156S\n",
    "pp_result = kpss(diff5['XTEITT01CNM156S'])\n",
    "print('PP Statistic: ', pp_result[0])\n",
    "print('p-value: ', pp_result[1])\n",
    "print('Critical Values: ', pp_result[3])"
   ]
  },
  {
   "cell_type": "code",
   "execution_count": null,
   "metadata": {},
   "outputs": [],
   "source": []
  }
 ],
 "metadata": {
  "kernelspec": {
   "display_name": "Python 3",
   "language": "python",
   "name": "python3"
  },
  "language_info": {
   "codemirror_mode": {
    "name": "ipython",
    "version": 3
   },
   "file_extension": ".py",
   "mimetype": "text/x-python",
   "name": "python",
   "nbconvert_exporter": "python",
   "pygments_lexer": "ipython3",
   "version": "3.8.5"
  }
 },
 "nbformat": 4,
 "nbformat_minor": 4
}
