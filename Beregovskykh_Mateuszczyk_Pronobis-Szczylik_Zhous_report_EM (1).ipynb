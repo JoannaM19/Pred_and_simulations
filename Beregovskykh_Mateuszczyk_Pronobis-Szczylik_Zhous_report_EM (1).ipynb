{
 "cells": [
  {
   "attachments": {},
   "cell_type": "markdown",
   "metadata": {},
   "source": [
    "# Predictions & simulations - Project 1\n",
    "## Report created by Artem Beregovskykh, Joanna Mateuszczyk, Juliusz Pronobis-Szczylik, Wenjiao Zhou\n"
   ]
  },
  {
   "attachments": {},
   "cell_type": "markdown",
   "metadata": {},
   "source": [
    "### Importing libraries"
   ]
  },
  {
   "cell_type": "code",
   "execution_count": 39,
   "metadata": {},
   "outputs": [],
   "source": [
    "import numpy as np\n",
    "import pandas as pd\n",
    "import datetime as dt\n",
    "import matplotlib.pyplot as plt\n",
    "import seaborn as sns\n",
    "import scipy as sp\n",
    "import scipy.stats as stats\n",
    "\n",
    "import statsmodels\n",
    "import statsmodels.api as sm\n",
    "import statsmodels.tsa.api as tsa\n",
    "\n",
    "from statsmodels.graphics.tsaplots import plot_acf\n",
    "from statsmodels.graphics.tsaplots import plot_pacf\n",
    "from statsmodels.tsa.stattools import adfuller, kpss\n",
    "%matplotlib inline"
   ]
  },
  {
   "attachments": {},
   "cell_type": "markdown",
   "metadata": {},
   "source": [
    "### Importing data\n",
    "*Place for explanation if needed*"
   ]
  },
  {
   "cell_type": "code",
   "execution_count": 49,
   "metadata": {},
   "outputs": [],
   "source": [
    "df1 = pd.read_csv('C:/Users/asia/Downloads/Predictions&simulations II/Spain stock index(^IBEX)_EUR.csv', parse_dates=['Date'])\n",
    "df2 = pd.read_csv('C:/Users/asia/Downloads/Predictions&simulations II/USDJPY_JPY.csv', parse_dates=['Date'])"
   ]
  },
  {
   "cell_type": "code",
   "execution_count": 51,
   "metadata": {},
   "outputs": [
    {
     "data": {
      "text/html": [
       "<div>\n",
       "<style scoped>\n",
       "    .dataframe tbody tr th:only-of-type {\n",
       "        vertical-align: middle;\n",
       "    }\n",
       "\n",
       "    .dataframe tbody tr th {\n",
       "        vertical-align: top;\n",
       "    }\n",
       "\n",
       "    .dataframe thead th {\n",
       "        text-align: right;\n",
       "    }\n",
       "</style>\n",
       "<table border=\"1\" class=\"dataframe\">\n",
       "  <thead>\n",
       "    <tr style=\"text-align: right;\">\n",
       "      <th></th>\n",
       "      <th>Date</th>\n",
       "      <th>IBEX</th>\n",
       "    </tr>\n",
       "  </thead>\n",
       "  <tbody>\n",
       "    <tr>\n",
       "      <th>0</th>\n",
       "      <td>2000-01-01</td>\n",
       "      <td>11641.400390</td>\n",
       "    </tr>\n",
       "    <tr>\n",
       "      <th>1</th>\n",
       "      <td>2000-02-01</td>\n",
       "      <td>10840.000000</td>\n",
       "    </tr>\n",
       "    <tr>\n",
       "      <th>2</th>\n",
       "      <td>2000-03-01</td>\n",
       "      <td>12585.799810</td>\n",
       "    </tr>\n",
       "    <tr>\n",
       "      <th>3</th>\n",
       "      <td>2000-04-01</td>\n",
       "      <td>11935.000000</td>\n",
       "    </tr>\n",
       "    <tr>\n",
       "      <th>4</th>\n",
       "      <td>2000-05-01</td>\n",
       "      <td>11569.200200</td>\n",
       "    </tr>\n",
       "    <tr>\n",
       "      <th>...</th>\n",
       "      <td>...</td>\n",
       "      <td>...</td>\n",
       "    </tr>\n",
       "    <tr>\n",
       "      <th>276</th>\n",
       "      <td>2023-01-01</td>\n",
       "      <td>8297.900391</td>\n",
       "    </tr>\n",
       "    <tr>\n",
       "      <th>277</th>\n",
       "      <td>2023-02-01</td>\n",
       "      <td>9048.000000</td>\n",
       "    </tr>\n",
       "    <tr>\n",
       "      <th>278</th>\n",
       "      <td>2023-03-01</td>\n",
       "      <td>9419.299805</td>\n",
       "    </tr>\n",
       "    <tr>\n",
       "      <th>279</th>\n",
       "      <td>2023-04-01</td>\n",
       "      <td>9217.799805</td>\n",
       "    </tr>\n",
       "    <tr>\n",
       "      <th>280</th>\n",
       "      <td>2023-05-01</td>\n",
       "      <td>9257.500000</td>\n",
       "    </tr>\n",
       "  </tbody>\n",
       "</table>\n",
       "<p>281 rows × 2 columns</p>\n",
       "</div>"
      ],
      "text/plain": [
       "          Date          IBEX\n",
       "0   2000-01-01  11641.400390\n",
       "1   2000-02-01  10840.000000\n",
       "2   2000-03-01  12585.799810\n",
       "3   2000-04-01  11935.000000\n",
       "4   2000-05-01  11569.200200\n",
       "..         ...           ...\n",
       "276 2023-01-01   8297.900391\n",
       "277 2023-02-01   9048.000000\n",
       "278 2023-03-01   9419.299805\n",
       "279 2023-04-01   9217.799805\n",
       "280 2023-05-01   9257.500000\n",
       "\n",
       "[281 rows x 2 columns]"
      ]
     },
     "execution_count": 51,
     "metadata": {},
     "output_type": "execute_result"
    }
   ],
   "source": [
    "df1"
   ]
  },
  {
   "cell_type": "code",
   "execution_count": 53,
   "metadata": {},
   "outputs": [
    {
     "data": {
      "text/html": [
       "<div>\n",
       "<style scoped>\n",
       "    .dataframe tbody tr th:only-of-type {\n",
       "        vertical-align: middle;\n",
       "    }\n",
       "\n",
       "    .dataframe tbody tr th {\n",
       "        vertical-align: top;\n",
       "    }\n",
       "\n",
       "    .dataframe thead th {\n",
       "        text-align: right;\n",
       "    }\n",
       "</style>\n",
       "<table border=\"1\" class=\"dataframe\">\n",
       "  <thead>\n",
       "    <tr style=\"text-align: right;\">\n",
       "      <th></th>\n",
       "      <th>Date</th>\n",
       "      <th>USD/JPY</th>\n",
       "    </tr>\n",
       "  </thead>\n",
       "  <tbody>\n",
       "    <tr>\n",
       "      <th>0</th>\n",
       "      <td>2000-01-01</td>\n",
       "      <td>102.180000</td>\n",
       "    </tr>\n",
       "    <tr>\n",
       "      <th>1</th>\n",
       "      <td>2000-02-01</td>\n",
       "      <td>107.190002</td>\n",
       "    </tr>\n",
       "    <tr>\n",
       "      <th>2</th>\n",
       "      <td>2000-03-01</td>\n",
       "      <td>110.070000</td>\n",
       "    </tr>\n",
       "    <tr>\n",
       "      <th>3</th>\n",
       "      <td>2000-04-01</td>\n",
       "      <td>102.940002</td>\n",
       "    </tr>\n",
       "    <tr>\n",
       "      <th>4</th>\n",
       "      <td>2000-05-01</td>\n",
       "      <td>108.120003</td>\n",
       "    </tr>\n",
       "    <tr>\n",
       "      <th>...</th>\n",
       "      <td>...</td>\n",
       "      <td>...</td>\n",
       "    </tr>\n",
       "    <tr>\n",
       "      <th>276</th>\n",
       "      <td>2023-01-01</td>\n",
       "      <td>131.110001</td>\n",
       "    </tr>\n",
       "    <tr>\n",
       "      <th>277</th>\n",
       "      <td>2023-02-01</td>\n",
       "      <td>130.110001</td>\n",
       "    </tr>\n",
       "    <tr>\n",
       "      <th>278</th>\n",
       "      <td>2023-03-01</td>\n",
       "      <td>136.348007</td>\n",
       "    </tr>\n",
       "    <tr>\n",
       "      <th>279</th>\n",
       "      <td>2023-04-01</td>\n",
       "      <td>132.770004</td>\n",
       "    </tr>\n",
       "    <tr>\n",
       "      <th>280</th>\n",
       "      <td>2023-05-01</td>\n",
       "      <td>136.386002</td>\n",
       "    </tr>\n",
       "  </tbody>\n",
       "</table>\n",
       "<p>281 rows × 2 columns</p>\n",
       "</div>"
      ],
      "text/plain": [
       "          Date     USD/JPY\n",
       "0   2000-01-01  102.180000\n",
       "1   2000-02-01  107.190002\n",
       "2   2000-03-01  110.070000\n",
       "3   2000-04-01  102.940002\n",
       "4   2000-05-01  108.120003\n",
       "..         ...         ...\n",
       "276 2023-01-01  131.110001\n",
       "277 2023-02-01  130.110001\n",
       "278 2023-03-01  136.348007\n",
       "279 2023-04-01  132.770004\n",
       "280 2023-05-01  136.386002\n",
       "\n",
       "[281 rows x 2 columns]"
      ]
     },
     "execution_count": 53,
     "metadata": {},
     "output_type": "execute_result"
    }
   ],
   "source": [
    "df2"
   ]
  },
  {
   "cell_type": "code",
   "execution_count": 54,
   "metadata": {},
   "outputs": [
    {
     "name": "stdout",
     "output_type": "stream",
     "text": [
      "Date    datetime64[ns]\n",
      "IBEX           float64\n",
      "dtype: object\n",
      "Date       datetime64[ns]\n",
      "USD/JPY           float64\n",
      "dtype: object\n"
     ]
    }
   ],
   "source": [
    "# Check the data type of the 'Date' column\n",
    "print(df1.dtypes)\n",
    "print(df2.dtypes)"
   ]
  },
  {
   "attachments": {},
   "cell_type": "markdown",
   "metadata": {},
   "source": [
    "### Plotting\n",
    "*Place for explaining steps*"
   ]
  },
  {
   "cell_type": "code",
   "execution_count": 44,
   "metadata": {},
   "outputs": [
    {
     "data": {
      "image/png": "[encoded data removed]",
      "text/plain": [
       "<Figure size 640x480 with 1 Axes>"
      ]
     },
     "metadata": {},
     "output_type": "display_data"
    }
   ],
   "source": [
    "sns.lineplot(x=\"Date\", y=\"IBEX\", data=df1, color='green')\n",
    "plt.show()"
   ]
  },
  {
   "cell_type": "code",
   "execution_count": 55,
   "metadata": {},
   "outputs": [
    {
     "data": {
      "image/png": "[encoded data removed]",
      "text/plain": [
       "<Figure size 640x480 with 1 Axes>"
      ]
     },
     "metadata": {},
     "output_type": "display_data"
    }
   ],
   "source": [
    "sns.lineplot(x=\"Date\", y=\"USD/JPY\", data=df2, color='red')\n",
    "plt.show()"
   ]
  },
  {
   "attachments": {},
   "cell_type": "markdown",
   "metadata": {},
   "source": [
    "### Stationary tests\n",
    "*Place for explaining steps*"
   ]
  },
  {
   "cell_type": "code",
   "execution_count": 46,
   "metadata": {},
   "outputs": [
    {
     "name": "stdout",
     "output_type": "stream",
     "text": [
      "ADF Statistic:  -2.5727847848258962\n",
      "p-value:  0.09875355884152848\n",
      "Critical Values:  {'1%': -3.4541800885158525, '5%': -2.872031361137725, '10%': -2.5723603999791473}\n"
     ]
    }
   ],
   "source": [
    "# Perform the Augmented Dickey-Fuller (ADF) test\n",
    "adf_result = adfuller(df1['IBEX'])\n",
    "print('ADF Statistic: ', adf_result[0])\n",
    "print('p-value: ', adf_result[1])\n",
    "print('Critical Values: ', adf_result[4])\n"
   ]
  },
  {
   "cell_type": "code",
   "execution_count": 47,
   "metadata": {},
   "outputs": [
    {
     "name": "stdout",
     "output_type": "stream",
     "text": [
      "PP Statistic:  0.22753379246068223\n",
      "p-value:  0.1\n",
      "Critical Values:  {'10%': 0.347, '5%': 0.463, '2.5%': 0.574, '1%': 0.739}\n"
     ]
    },
    {
     "name": "stderr",
     "output_type": "stream",
     "text": [
      "c:\\Users\\asia\\anaconda3\\envs\\snowflake\\lib\\site-packages\\statsmodels\\tsa\\stattools.py:2022: InterpolationWarning: The test statistic is outside of the range of p-values available in the\n",
      "look-up table. The actual p-value is greater than the p-value returned.\n",
      "\n",
      "  warnings.warn(\n"
     ]
    }
   ],
   "source": [
    "# Perform the Phillips-Perron (PP) test\n",
    "pp_result = kpss(df1['IBEX'])\n",
    "print('PP Statistic: ', pp_result[0])\n",
    "print('p-value: ', pp_result[1])\n",
    "print('Critical Values: ', pp_result[3])"
   ]
  },
  {
   "cell_type": "code",
   "execution_count": 56,
   "metadata": {},
   "outputs": [
    {
     "name": "stdout",
     "output_type": "stream",
     "text": [
      "ADF Statistic:  -1.7162993148528476\n",
      "p-value:  0.42273474932130023\n",
      "Critical Values:  {'1%': -3.4548039258751206, '5%': -2.872304928618605, '10%': -2.5725063100137175}\n"
     ]
    }
   ],
   "source": [
    "# Perform the Augmented Dickey-Fuller (ADF) test\n",
    "adf_result = adfuller(df2['USD/JPY'])\n",
    "print('ADF Statistic: ', adf_result[0])\n",
    "print('p-value: ', adf_result[1])\n",
    "print('Critical Values: ', adf_result[4])\n"
   ]
  },
  {
   "cell_type": "code",
   "execution_count": 57,
   "metadata": {},
   "outputs": [
    {
     "name": "stdout",
     "output_type": "stream",
     "text": [
      "PP Statistic:  0.36935283946038233\n",
      "p-value:  0.09036515540500761\n",
      "Critical Values:  {'10%': 0.347, '5%': 0.463, '2.5%': 0.574, '1%': 0.739}\n"
     ]
    }
   ],
   "source": [
    "# Perform the Phillips-Perron (PP) test\n",
    "pp_result = kpss(df2['USD/JPY'])\n",
    "print('PP Statistic: ', pp_result[0])\n",
    "print('p-value: ', pp_result[1])\n",
    "print('Critical Values: ', pp_result[3])"
   ]
  },
  {
   "attachments": {},
   "cell_type": "markdown",
   "metadata": {},
   "source": [
    "### Transformations and new tests - if needed\n",
    "* Example: In this example, we load the monthly price index dataset into a Pandas DataFrame and visualize the data with a line plot. The ADF test and the PP test are then performed on the original series to determine if it is stationary or not. If the series is non-stationary, we take the first difference of the series and visualize the transformed data with another line plot. The ADF test and the PP test are then performed on the transformed series to confirm its stationarity.\n",
    "\n",
    "* The ADF test checks whether the null hypothesis of a unit root (i.e., non-stationarity) exists in the series. If the p-value of the test is less than the significance level (e.g., 0.05), we reject the null hypothesis and conclude that the series is stationary."
   ]
  },
  {
   "cell_type": "code",
   "execution_count": null,
   "metadata": {},
   "outputs": [],
   "source": [
    "#Example\n",
    "# If the series is non-stationary, make relevant transformations to obtain stationary data\n",
    "#diff = df['index'].diff().dropna()\n",
    "# Visualize the transformed data with a line plot\n",
    "#plt.plot(diff)\n",
    "#plt.xlabel('Date')\n",
    "#plt.ylabel('Index Difference')\n",
    "#plt.title('Monthly Index Difference')\n",
    "#plt.show()\n",
    "\n",
    "# Perform the Augmented Dickey-Fuller (ADF) test on the transformed data\n",
    "#adf_result_diff = adfuller(diff)\n",
    "#print('ADF Statistic (Diff): ', adf_result_diff[0])\n",
    "#print('p-value (Diff): ', adf_result_diff[1])\n",
    "#print('Critical Values (Diff): ', adf_result_diff[4])\n",
    "\n",
    "# Perform the Phillips-Perron (PP) test on the transformed data\n",
    "#pp_result_diff = kpss(diff)\n",
    "#print('PP Statistic (Diff): ', pp_result_diff[0])\n",
    "#print('p-value (Diff): ', pp_result_diff[1])\n",
    "#print('Critical Values (Diff): ', pp_result_diff[3])\n"
   ]
  },
  {
   "attachments": {},
   "cell_type": "markdown",
   "metadata": {},
   "source": [
    "*Place for some ending comments*"
   ]
  }
 ],
 "metadata": {
  "kernelspec": {
   "display_name": "snowflake",
   "language": "python",
   "name": "python3"
  },
  "language_info": {
   "codemirror_mode": {
    "name": "ipython",
    "version": 3
   },
   "file_extension": ".py",
   "mimetype": "text/x-python",
   "name": "python",
   "nbconvert_exporter": "python",
   "pygments_lexer": "ipython3",
   "version": "3.9.7"
  },
  "orig_nbformat": 4
 },
 "nbformat": 4,
 "nbformat_minor": 2
}
